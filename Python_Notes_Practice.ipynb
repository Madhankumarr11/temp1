{
  "nbformat": 4,
  "nbformat_minor": 0,
  "metadata": {
    "colab": {
      "provenance": [],
      "toc_visible": true,
      "authorship_tag": "ABX9TyMig5lyeaVIbzRkkkIhoRiD",
      "include_colab_link": true
    },
    "kernelspec": {
      "name": "python3",
      "display_name": "Python 3"
    },
    "language_info": {
      "name": "python"
    }
  },
  "cells": [
    {
      "cell_type": "markdown",
      "metadata": {
        "id": "view-in-github",
        "colab_type": "text"
      },
      "source": [
        "<a href=\"https://colab.research.google.com/github/Madhankumarr11/code-pratice/blob/main/Python_Notes_Practice.ipynb\" target=\"_parent\"><img src=\"https://colab.research.google.com/assets/colab-badge.svg\" alt=\"Open In Colab\"/></a>"
      ]
    },
    {
      "cell_type": "markdown",
      "source": [
        "#29-oct-2025"
      ],
      "metadata": {
        "id": "oSRaO4OUQzUz"
      }
    },
    {
      "cell_type": "markdown",
      "source": [
        "##(Casting)"
      ],
      "metadata": {
        "id": "redsDTBFQdam"
      }
    },
    {
      "cell_type": "code",
      "source": [
        "a = 10\n",
        "print(a)"
      ],
      "metadata": {
        "colab": {
          "base_uri": "https://localhost:8080/"
        },
        "id": "srX_5MnYQ1me",
        "outputId": "73fc5d93-e4ba-49db-82f6-a0e9f884af95"
      },
      "execution_count": 2,
      "outputs": [
        {
          "output_type": "stream",
          "name": "stdout",
          "text": [
            "10\n"
          ]
        }
      ]
    },
    {
      "cell_type": "code",
      "source": [
        "a = '10'\n",
        "b = '20'\n",
        "c=a+b\n",
        "print(c)"
      ],
      "metadata": {
        "colab": {
          "base_uri": "https://localhost:8080/"
        },
        "id": "p8AvFEWVQ9de",
        "outputId": "7808b712-41c7-4ebd-994f-87d301cbf495"
      },
      "execution_count": 4,
      "outputs": [
        {
          "output_type": "stream",
          "name": "stdout",
          "text": [
            "1020\n"
          ]
        }
      ]
    },
    {
      "cell_type": "code",
      "source": [
        "a = int('10')\n",
        "b = int('20')\n",
        "c=a+b\n",
        "print(c)"
      ],
      "metadata": {
        "colab": {
          "base_uri": "https://localhost:8080/"
        },
        "id": "dV4DDVy7RFhu",
        "outputId": "b0d6a33e-38ad-4c75-c5a2-6924a5624876"
      },
      "execution_count": 5,
      "outputs": [
        {
          "output_type": "stream",
          "name": "stdout",
          "text": [
            "30\n"
          ]
        }
      ]
    },
    {
      "cell_type": "code",
      "source": [
        "a = input()\n",
        "b = input()\n",
        "\n",
        "c= a+b\n",
        "print(c)"
      ],
      "metadata": {
        "colab": {
          "base_uri": "https://localhost:8080/"
        },
        "id": "4CJlylSsRsDs",
        "outputId": "a9075ee1-aac1-4718-d70d-e7c668fdc5c2"
      },
      "execution_count": 9,
      "outputs": [
        {
          "output_type": "stream",
          "name": "stdout",
          "text": [
            "10\n",
            "20\n",
            "1020\n"
          ]
        }
      ]
    },
    {
      "cell_type": "code",
      "source": [
        "a = int(input())\n",
        "b = int(input())\n",
        "\n",
        "c= a+b\n",
        "print(c)"
      ],
      "metadata": {
        "colab": {
          "base_uri": "https://localhost:8080/"
        },
        "id": "G4x3iTQdRP2C",
        "outputId": "ba09f699-d620-4aba-a451-235b5ed9da03"
      },
      "execution_count": 8,
      "outputs": [
        {
          "output_type": "stream",
          "name": "stdout",
          "text": [
            "10\n",
            "20\n",
            "30\n"
          ]
        }
      ]
    },
    {
      "cell_type": "code",
      "source": [
        "Name = input()\n",
        "age = int(input())\n",
        "address = input()\n",
        "print('My Name is :', Name)\n",
        "print('My age is :', age)\n",
        "print('My address is :', address )\n"
      ],
      "metadata": {
        "colab": {
          "base_uri": "https://localhost:8080/"
        },
        "id": "KT-fyYeSSGhw",
        "outputId": "72c915aa-4099-479f-b569-8c03c90f5bf5"
      },
      "execution_count": 20,
      "outputs": [
        {
          "output_type": "stream",
          "name": "stdout",
          "text": [
            "Madhan\n",
            "30\n",
            "chennai\n",
            "My Name is : Madhan\n",
            "My age is : 30\n",
            "My address is : chennai\n"
          ]
        }
      ]
    },
    {
      "cell_type": "code",
      "source": [
        "a = int(input())\n",
        "b = int(input())\n",
        "c = int(input())\n",
        "\n",
        "d = (a*b*c)\n",
        "e = (a+b+c)\n",
        "f = d/e\n",
        "print(f)"
      ],
      "metadata": {
        "colab": {
          "base_uri": "https://localhost:8080/"
        },
        "id": "3-78KBSFTUjx",
        "outputId": "d4077f43-a1c9-448e-9e4e-32aa83bb7f91"
      },
      "execution_count": 26,
      "outputs": [
        {
          "output_type": "stream",
          "name": "stdout",
          "text": [
            "10\n",
            "20\n",
            "30\n",
            "100.0\n"
          ]
        }
      ]
    },
    {
      "cell_type": "code",
      "source": [
        "name = input()\n",
        "score = int(input())\n",
        "department = input()\n",
        "\n",
        "print('Name :', name)\n",
        "print('Score :', score/10, '/10')\n",
        "print('Department :', department)"
      ],
      "metadata": {
        "colab": {
          "base_uri": "https://localhost:8080/"
        },
        "id": "T3c4slsBUNl5",
        "outputId": "9af97456-1213-490f-b6b3-de06ec996217"
      },
      "execution_count": 29,
      "outputs": [
        {
          "output_type": "stream",
          "name": "stdout",
          "text": [
            "Madhan\n",
            "95\n",
            "Datascience\n",
            "Name : Madhan\n",
            "Score : 9.5 /10\n",
            "Department : Datascience\n"
          ]
        }
      ]
    },
    {
      "cell_type": "markdown",
      "source": [
        "##2(If or Else)"
      ],
      "metadata": {
        "id": "GEaJhpbnOqeZ"
      }
    },
    {
      "cell_type": "code",
      "execution_count": 1,
      "metadata": {
        "id": "UI6xEiq0MPmk",
        "colab": {
          "base_uri": "https://localhost:8080/"
        },
        "outputId": "0d803187-3431-41b2-cce8-92b4301cab3f"
      },
      "outputs": [
        {
          "output_type": "stream",
          "name": "stdout",
          "text": [
            "Ee sala cup namade\n"
          ]
        }
      ],
      "source": [
        "rcb = 'win'\n",
        "if (rcb=='win'):\n",
        "  print('Ee sala cup namade')\n",
        "else:\n",
        "  print('Kannan devan tea kudi')"
      ]
    },
    {
      "cell_type": "code",
      "source": [],
      "metadata": {
        "id": "nSS6isfmP2de"
      },
      "execution_count": null,
      "outputs": []
    }
  ]
}